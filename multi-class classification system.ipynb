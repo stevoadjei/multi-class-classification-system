{
 "cells": [
  {
   "cell_type": "code",
   "execution_count": 1,
   "id": "6c6e6945-2541-4563-b046-48124030a439",
   "metadata": {},
   "outputs": [],
   "source": [
    "# Import necessary libraries  \n",
    "import numpy as np  \n",
    "import pandas as pd  \n",
    "from sklearn.datasets import load_iris  \n",
    "from sklearn.model_selection import train_test_split  \n",
    "from sklearn.preprocessing import MinMaxScaler  \n",
    "from sklearn.linear_model import LogisticRegression  \n",
    "from sklearn.metrics import confusion_matrix, classification_report"
   ]
  },
  {
   "cell_type": "code",
   "execution_count": 2,
   "id": "913c7805-ce09-48aa-86c1-d4176141f47c",
   "metadata": {},
   "outputs": [],
   "source": [
    "#Loading the Iris dataset  \n",
    "iris = load_iris()  \n",
    "X = iris.data  \n",
    "y = iris.target "
   ]
  },
  {
   "cell_type": "code",
   "execution_count": 3,
   "id": "a9797c6f-6070-42c9-818c-1a035c5e4dc4",
   "metadata": {},
   "outputs": [],
   "source": [
    "# Spliting the dataset into training and testing sets (80/20 split)  \n",
    "X_train, X_test, y_train, y_test = train_test_split(X, y, test_size=0.2, random_state=42)  \n"
   ]
  },
  {
   "cell_type": "code",
   "execution_count": 4,
   "id": "b16a18b0-0226-4684-81ab-e3efa3e9faba",
   "metadata": {},
   "outputs": [],
   "source": [
    "#Normalization the features to the range [0, 1] using MinMaxScaler  \n",
    "scaler = MinMaxScaler()  \n",
    "X_train_normalized = scaler.fit_transform(X_train)  \n",
    "X_test_normalized = scaler.transform(X_test)  \n"
   ]
  },
  {
   "cell_type": "code",
   "execution_count": 5,
   "id": "a7ab996a-91d8-4478-a5f6-c160123ec5f6",
   "metadata": {},
   "outputs": [],
   "source": [
    "#Training a separate logistic regression classifier for each class  \n",
    "classifiers = {}  \n",
    "for class_label in np.unique(y_train):  \n",
    "    # Create a binary target for the current class  \n",
    "    binary_y_train = (y_train == class_label).astype(int)  \n",
    "    \n",
    "    clf = LogisticRegression(max_iter=1000, solver='liblinear', random_state=42)  \n",
    "    clf.fit(X_train_normalized, binary_y_train)  \n",
    "    classifiers[class_label] = clf "
   ]
  },
  {
   "cell_type": "code",
   "execution_count": 6,
   "id": "a22c8c03-a310-4af7-b5cf-ee3a57a65bbc",
   "metadata": {},
   "outputs": [],
   "source": [
    "#Collecting predicted probabilities for each test sample  \n",
    "predicted_probabilities = np.array([classifiers[class_label].predict_proba(X_test_normalized)[:, 1]  \n",
    "                                    for class_label in np.unique(y_train)]).T "
   ]
  },
  {
   "cell_type": "code",
   "execution_count": 7,
   "id": "d1496ec2-690b-4a50-b3a8-fe6be08f6b47",
   "metadata": {},
   "outputs": [],
   "source": [
    "#Assigning each sample to the class with the highest predicted probability  \n",
    "predicted_classes = np.argmax(predicted_probabilities, axis=1)  "
   ]
  },
  {
   "cell_type": "code",
   "execution_count": 8,
   "id": "1622f1b7-b1ba-4411-9cee-1c99ba098d0e",
   "metadata": {},
   "outputs": [],
   "source": [
    "# Computing the confusion matrix  \n",
    "conf_matrix = confusion_matrix(y_test, predicted_classes) "
   ]
  },
  {
   "cell_type": "code",
   "execution_count": 9,
   "id": "a48e0fe9-d115-4b45-9074-85a320910f65",
   "metadata": {},
   "outputs": [],
   "source": [
    "\n",
    "#Converting the confusion matrix into a DataFrame for readability  \n",
    "confusion_df = pd.DataFrame(conf_matrix, index=iris.target_names, columns=iris.target_names)"
   ]
  },
  {
   "cell_type": "code",
   "execution_count": 10,
   "id": "068a9a87-b588-4962-b958-c0ca4db2158a",
   "metadata": {},
   "outputs": [],
   "source": [
    "#Computing the classification metrics  \n",
    "class_report = classification_report(y_test, predicted_classes, target_names=iris.target_names) "
   ]
  },
  {
   "cell_type": "code",
   "execution_count": 11,
   "id": "ad6d2e6b-81f0-4f2f-8a7e-d99138ade825",
   "metadata": {},
   "outputs": [
    {
     "name": "stdout",
     "output_type": "stream",
     "text": [
      "Predicted and Actual Labels for each test sample:\n",
      "Sample 1: Predicted - versicolor, Actual - versicolor\n",
      "Sample 2: Predicted - setosa, Actual - setosa\n",
      "Sample 3: Predicted - virginica, Actual - virginica\n",
      "Sample 4: Predicted - virginica, Actual - versicolor\n",
      "Sample 5: Predicted - virginica, Actual - versicolor\n",
      "Sample 6: Predicted - setosa, Actual - setosa\n",
      "Sample 7: Predicted - versicolor, Actual - versicolor\n",
      "Sample 8: Predicted - virginica, Actual - virginica\n",
      "Sample 9: Predicted - versicolor, Actual - versicolor\n",
      "Sample 10: Predicted - versicolor, Actual - versicolor\n",
      "Sample 11: Predicted - virginica, Actual - virginica\n",
      "Sample 12: Predicted - setosa, Actual - setosa\n",
      "Sample 13: Predicted - setosa, Actual - setosa\n",
      "Sample 14: Predicted - setosa, Actual - setosa\n",
      "Sample 15: Predicted - setosa, Actual - setosa\n",
      "Sample 16: Predicted - virginica, Actual - versicolor\n",
      "Sample 17: Predicted - virginica, Actual - virginica\n",
      "Sample 18: Predicted - versicolor, Actual - versicolor\n",
      "Sample 19: Predicted - versicolor, Actual - versicolor\n",
      "Sample 20: Predicted - virginica, Actual - virginica\n",
      "Sample 21: Predicted - setosa, Actual - setosa\n",
      "Sample 22: Predicted - virginica, Actual - virginica\n",
      "Sample 23: Predicted - setosa, Actual - setosa\n",
      "Sample 24: Predicted - virginica, Actual - virginica\n",
      "Sample 25: Predicted - virginica, Actual - virginica\n",
      "Sample 26: Predicted - virginica, Actual - virginica\n",
      "Sample 27: Predicted - virginica, Actual - virginica\n",
      "Sample 28: Predicted - virginica, Actual - virginica\n",
      "Sample 29: Predicted - setosa, Actual - setosa\n",
      "Sample 30: Predicted - setosa, Actual - setosa\n",
      "\n",
      "Confusion Matrix:\n",
      "            setosa  versicolor  virginica\n",
      "setosa          10           0          0\n",
      "versicolor       0           6          3\n",
      "virginica        0           0         11\n",
      "\n",
      "Classification Report:\n",
      "              precision    recall  f1-score   support\n",
      "\n",
      "      setosa       1.00      1.00      1.00        10\n",
      "  versicolor       1.00      0.67      0.80         9\n",
      "   virginica       0.79      1.00      0.88        11\n",
      "\n",
      "    accuracy                           0.90        30\n",
      "   macro avg       0.93      0.89      0.89        30\n",
      "weighted avg       0.92      0.90      0.90        30\n",
      "\n"
     ]
    }
   ],
   "source": [
    "#Printing predicted and actual labels for each test sample  \n",
    "print(\"Predicted and Actual Labels for each test sample:\")  \n",
    "for i in range(len(y_test)):  \n",
    "    print(f\"Sample {i+1}: Predicted - {iris.target_names[predicted_classes[i]]}, Actual - {iris.target_names[y_test[i]]}\")  \n",
    "\n",
    "# Displaying confusion matrix and classification report  \n",
    "print(\"\\nConfusion Matrix:\")  \n",
    "print(confusion_df)  \n",
    "print(\"\\nClassification Report:\")  \n",
    "print(class_report)"
   ]
  },
  {
   "cell_type": "code",
   "execution_count": null,
   "id": "d27a209c-bbb7-44f3-a5ce-fc91f41c3690",
   "metadata": {},
   "outputs": [],
   "source": []
  }
 ],
 "metadata": {
  "kernelspec": {
   "display_name": "Python 3 (ipykernel)",
   "language": "python",
   "name": "python3"
  },
  "language_info": {
   "codemirror_mode": {
    "name": "ipython",
    "version": 3
   },
   "file_extension": ".py",
   "mimetype": "text/x-python",
   "name": "python",
   "nbconvert_exporter": "python",
   "pygments_lexer": "ipython3",
   "version": "3.12.7"
  }
 },
 "nbformat": 4,
 "nbformat_minor": 5
}
